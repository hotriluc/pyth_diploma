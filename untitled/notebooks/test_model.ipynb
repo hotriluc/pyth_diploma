{
 "cells": [
  {
   "cell_type": "code",
   "execution_count": 34,
   "metadata": {
    "collapsed": true,
    "pycharm": {
     "name": "#%%\n",
     "is_executing": false
    }
   },
   "outputs": [
    {
     "name": "stdout",
     "text": [
      "Случайное выбранное сообщение 5.0\n"
     ],
     "output_type": "stream"
    }
   ],
   "source": [
    "import numpy as np\n",
    "f0 = 1\n",
    "w0 = 2*np.pi*f0\n",
    "V = 1\n",
    "T = 1/V\n",
    "Pw =  1\n",
    "k = 4\n",
    "\n",
    "N = 20\n",
    "M = 20000\n",
    "a = np.sqrt((8/5)*Pw) \n",
    "x = np.floor(np.random.randint(0,np.power(2,k)-1))\n",
    "a\n",
    "x\n",
    "print(\"Случайное выбранное сообщение\",x)"
   ]
  },
  {
   "cell_type": "code",
   "execution_count": 35,
   "outputs": [
    {
     "name": "stdout",
     "text": [
      "H = 1.0, L = 1.0\n"
     ],
     "output_type": "stream"
    }
   ],
   "source": [
    "H =  np.floor(x/np.power(2,2))\n",
    "L = x % np.power(2,2)\n",
    "print(\"H = {0}, L = {1}\".format(H,L))\n"
   ],
   "metadata": {
    "collapsed": false,
    "pycharm": {
     "name": "#%%\n",
     "is_executing": false
    }
   }
  },
  {
   "cell_type": "code",
   "execution_count": 36,
   "outputs": [
    {
     "data": {
      "text/plain": "<Figure size 432x288 with 1 Axes>",
      "image/png": "[encoded data removed]"
     },
     "metadata": {
      "needs_background": "light"
     },
     "output_type": "display_data"
    }
   ],
   "source": [
    "import matplotlib.pyplot as plt \n",
    "f_rate = 100 #sample rate\n",
    "t = np.arange(f_rate)\n",
    "#s_t = a*np.sin(2*np.pi*f0 * (t/f_rate))\n",
    "s_t = (a*(3/2-H)*np.sin(w0*t/f_rate))-(a*(3/2-L)*np.cos(w0*t/f_rate))\n",
    "\n",
    "plt.plot(t,s_t)\n",
    "plt.show()"
   ],
   "metadata": {
    "collapsed": false,
    "pycharm": {
     "name": "#%%\n",
     "is_executing": false
    }
   }
  },
  {
   "cell_type": "code",
   "execution_count": 2,
   "outputs": [
    {
     "name": "stdout",
     "text": [
      "FourierSeries(x, (x, -pi, pi), (0, SeqFormula(0, (_k, 1, oo)), SeqFormula(Piecewise((-2*pi*cos(_n*pi)/_n + 2*sin(_n*pi)/_n**2, (_n > -oo) & (_n < oo) & Ne(_n, 0)), (0, True))*sin(_n*x)/pi, (_n, 1, oo))))\n"
     ],
     "output_type": "stream"
    }
   ],
   "source": [
    "from scipy import integrate\n",
    "for S_N in range(1,N):\n",
    "    cnt = 0\n",
    "    N0 = 1/S_N\n",
    "    for i in range(0,M-1):\n",
    "        r = np.random.normal(0,np.sqrt(N0/4),9)\n",
    "        for j in range(1,4):\n",
    "            sum = r[2*j-1]*np.sin( (t/f_rate)*(2*np.pi*j)/(2*T) ) +\\\n",
    "                  r[2*j]*np.cos( (t/f_rate)*(2*np.pi*j)/(2*T) )\n",
    "            noise_t = r[0]+sum\n",
    "        #наложение шума\n",
    "        SN_t = s_t+noise_t\n",
    "        alpha = (2/T*a)*integrate.quad(SN_t*np.sin(w0*t),0,T)\n",
    "        "
   ],
   "metadata": {
    "collapsed": false,
    "pycharm": {
     "name": "#%%\n",
     "is_executing": false
    }
   }
  }
 ],
 "metadata": {
  "language_info": {
   "codemirror_mode": {
    "name": "ipython",
    "version": 2
   },
   "file_extension": ".py",
   "mimetype": "text/x-python",
   "name": "python",
   "nbconvert_exporter": "python",
   "pygments_lexer": "ipython2",
   "version": "2.7.6"
  },
  "kernelspec": {
   "name": "python3",
   "language": "python",
   "display_name": "Python 3"
  },
  "pycharm": {
   "stem_cell": {
    "cell_type": "raw",
    "source": [],
    "metadata": {
     "collapsed": false
    }
   }
  }
 },
 "nbformat": 4,
 "nbformat_minor": 0
}